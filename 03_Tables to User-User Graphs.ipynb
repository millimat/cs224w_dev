{
 "cells": [
  {
   "cell_type": "code",
   "execution_count": null,
   "metadata": {
    "collapsed": true
   },
   "outputs": [],
   "source": [
    "import snap\n",
    "import re\n",
    "import os"
   ]
  },
  {
   "cell_type": "code",
   "execution_count": null,
   "metadata": {
    "collapsed": true
   },
   "outputs": [],
   "source": [
    "comment_file = 'output/reddit_comments_jan2012.txt'"
   ]
  },
  {
   "cell_type": "code",
   "execution_count": null,
   "metadata": {},
   "outputs": [],
   "source": [
    "int_attrs = ['score', 'gilded', 'created_utc']\n",
    "str_attrs = ['subreddit', 'comment_id']\n",
    "uunet = snap.TNEANet.New()\n",
    "uunet_nodelete = snap.TNEANet.New() # No node for [deleted] placeholder, no edges for [deleted] or [removed] comments\n",
    "uu_simple = snap.TNGraph.New() # Copy without attributes or multi-edges\n",
    "uu_simple_nodelete = snap.TNGraph.New() # Copy without attributes or multi-edges. Edges ARE added if comment text\n",
    "                                        # is [removed] or [deleted], unlike uunet_nodelete\n",
    "\n",
    "for ia in int_attrs:\n",
    "    uunet.AddIntAttrE(ia)\n",
    "    uunet_nodelete.AddIntAttrE(ia)\n",
    "for sa in str_attrs:\n",
    "    uunet.AddStrAttrE(sa)\n",
    "    uunet_nodelete.AddStrAttrE(sa)\n",
    "    \n",
    "uunet.AddStrAttrN('username')\n",
    "uunet_nodelete.AddStrAttrN('username')"
   ]
  },
  {
   "cell_type": "code",
   "execution_count": null,
   "metadata": {},
   "outputs": [],
   "source": [
    "comments = open(comment_file)\n",
    "header = comments.readline()[1:].rstrip('\\n').split('\\t')\n",
    "fields = {name: i for (i, name) in enumerate(header)}\n",
    "usernames_to_nids = {}\n",
    "\n",
    "# Iterate over all comments\n",
    "for (i, com) in enumerate(comments):\n",
    "    entries = com.rstrip('\\n').split('\\t')\n",
    "    entries = {fieldname: entries[fields[fieldname]] for fieldname in fields}\n",
    "    subreddit = entries['Subreddit']\n",
    "    commenter = entries['Commenter'] # standardized to lowercase\n",
    "    commentee = entries['Commentee'] # ditto\n",
    "    comment_id = entries['Comment_ID']\n",
    "    \n",
    "    score = int(entries['Score'])\n",
    "    gilded = int(entries['Gilded'])\n",
    "    created_utc = int(entries['Created_UTC'])\n",
    "    \n",
    "    text_deleted = int(entries['Text_Deleted'])\n",
    "    \n",
    "    # create nodes for commenter and commentee if they don't exist\n",
    "    for user in (commenter, commentee):\n",
    "        if user not in usernames_to_nids:\n",
    "            nid = usernames_to_nids[user] = uunet.AddNode()\n",
    "            uunet.AddStrAttrDatN(nid, user, 'username')\n",
    "            uu_simple.AddNode(nid)\n",
    "            if user != '[deleted]':\n",
    "                uunet_nodelete.AddNode(nid)\n",
    "                uunet_nodelete.AddStrAttrDatN(nid, user, 'username')\n",
    "                uu_simple_nodelete.AddNode(nid)\n",
    "    \n",
    "    commenter_nid = usernames_to_nids[commenter]\n",
    "    commentee_nid = usernames_to_nids[commentee]\n",
    "    \n",
    "    target_nets = [uunet]\n",
    "    if commenter != '[deleted]' and commentee != '[deleted]' and not text_deleted:\n",
    "        target_nets.append(uunet_nodelete)\n",
    "    \n",
    "    # Add comment edge with attributes to TNEANet(s)\n",
    "    for net in target_nets:\n",
    "        eid = net.AddEdge(commenter_nid, commentee_nid)\n",
    "        \n",
    "        net.AddIntAttrDatE(eid, score, 'score')\n",
    "        net.AddIntAttrDatE(eid, gilded, 'gilded')\n",
    "        net.AddIntAttrDatE(eid, created_utc, 'created_utc')\n",
    "        net.AddStrAttrDatE(eid, subreddit, 'subreddit')\n",
    "        net.AddStrAttrDatE(eid, comment_id, 'comment_id')\n",
    "        \n",
    "    # Add interaction edge (if not already present) to TNGraph(s)\n",
    "    uu_simple.AddEdge(commenter_nid, commentee_nid)\n",
    "    if commenter != '[deleted]' and commentee != '[deleted]':\n",
    "        uu_simple_nodelete.AddEdge(commenter_nid, commentee_nid)\n",
    "    \n",
    "    # Show progress\n",
    "    if i % 100000 == 0 and i > 0:\n",
    "        print(i)"
   ]
  },
  {
   "cell_type": "code",
   "execution_count": null,
   "metadata": {
    "collapsed": true
   },
   "outputs": [],
   "source": [
    "# Save networks\n",
    "output_dir = ('output/usernets')\n",
    "if not os.path.exists(output_dir):\n",
    "    os.makedirs(output_dir)\n",
    "\n",
    "out_multi_delete = snap.TFOut(os.path.join(output_dir, 'user_tneanet.graph'))\n",
    "out_multi_nodelete = snap.TFOut(os.path.join(output_dir, 'user_tneanet_nodelete.graph')\n",
    "out_simple_delete = snap.TFOut(os.path.join(output_dir, 'user_tngraph.graph'))\n",
    "out_simple_nodelete = snap.TFOut(os.path.join(output_dir, 'user_tngraph_nodelete.graph'))\n",
    "\n",
    "uunet.Save(out_multi_delete)\n",
    "out_multi_delete.Flush()\n",
    "                                \n",
    "uunet_nodelete.Save(out_multi_nodelete)\n",
    "out_multi_nodelete.Flush()\n",
    "                                \n",
    "uu_simple.Save(out_simple_delete)\n",
    "out_simple_delete.Flush()\n",
    "                                \n",
    "uu_simple_nodelete.Save(out_simple_nodelete)\n",
    "out_simple_nodelete.Flush()"
   ]
  }
 ],
 "metadata": {
  "kernelspec": {
   "display_name": "Python 2",
   "language": "python",
   "name": "python2"
  },
  "language_info": {
   "codemirror_mode": {
    "name": "ipython",
    "version": 2
   },
   "file_extension": ".py",
   "mimetype": "text/x-python",
   "name": "python",
   "nbconvert_exporter": "python",
   "pygments_lexer": "ipython2",
   "version": "2.7.14"
  }
 },
 "nbformat": 4,
 "nbformat_minor": 1
}
