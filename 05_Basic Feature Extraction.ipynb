{
 "cells": [
  {
   "cell_type": "code",
   "execution_count": 1,
   "metadata": {
    "collapsed": true
   },
   "outputs": [],
   "source": [
    "import snap\n",
    "import re\n",
    "import os\n",
    "from datetime import datetime\n",
    "from pytz import timezone\n",
    "from copy import deepcopy\n",
    "import csv"
   ]
  },
  {
   "cell_type": "code",
   "execution_count": 2,
   "metadata": {},
   "outputs": [],
   "source": [
    "# Post and comment file sorted by timestamp so that user statuses are accurate; see notebook 04\n",
    "post_file_sorted = open('output/rsj2012.txt')\n",
    "comment_file_sorted = open('output/rcj2012.txt')\n",
    "\n",
    "# Setup post and comment input files for reading\n",
    "\n",
    "post_lines = csv.DictReader(post_file_sorted, delimiter='\\t')\n",
    "comment_lines = csv.DictReader(comment_file_sorted, delimiter='\\t')"
   ]
  },
  {
   "cell_type": "code",
   "execution_count": 3,
   "metadata": {
    "collapsed": true
   },
   "outputs": [],
   "source": [
    "# Features we are interested in\n",
    "day_features = ['Is_US_Eastern_{}'.format(d) for d in ('Mon', 'Tue', 'Wed', 'Thu', 'Fri', 'Sat', 'Sun')]\n",
    "hour_features = ['Is_US_Eastern_Hour_{}'.format(h) for h in range(24)]\n",
    "status_templates = ['Cum_{}s', 'Cum_{}_Score', 'Cum_{}_Gold']\n",
    "user_status_features = [template.format(typ) for template in status_templates for typ in ('Post', 'Comment')]\n",
    "\n",
    "# Outputs\n",
    "output_features = ['Score', 'Gilded']"
   ]
  },
  {
   "cell_type": "code",
   "execution_count": 4,
   "metadata": {},
   "outputs": [],
   "source": [
    "# Setup post and comment output feature files\n",
    "outfile_posts = open('output/reddit_submissions_basic_features_jan2012.tsv', 'w')\n",
    "post_features = ['Post_ID', 'Author'] + day_features + hour_features\\\n",
    "                + ['Author_' + f for f in user_status_features] + output_features\n",
    "output_posts = csv.DictWriter(outfile_posts, post_features, delimiter='\\t')\n",
    "output_posts.writeheader()\n",
    "\n",
    "\n",
    "outfile_comments = open('output/reddit_comments_basic_features_jan2012.tsv', 'w')\n",
    "comment_features = ['Comment_ID', 'Commenter', 'Commentee'] + day_features + hour_features\\\n",
    "                   + ['Commenter_' + f for f in user_status_features]\\\n",
    "                   + ['Commentee_' + f for f in user_status_features]\\\n",
    "                   + output_features\n",
    "output_comments = csv.DictWriter(outfile_comments, comment_features, delimiter='\\t')\n",
    "output_comments.writeheader()"
   ]
  },
  {
   "cell_type": "code",
   "execution_count": 5,
   "metadata": {
    "collapsed": true
   },
   "outputs": [],
   "source": [
    "# User status tracking\n",
    "user_status = {} # username -> (curr totals of post/comments and scores)\n",
    "user_status_template = {k: 0 for k in user_status_features}\n",
    "\n",
    "# Get user's current info from username and |user_status|\n",
    "def get_user_infodict(username):\n",
    "    if username == '[deleted]':\n",
    "        return {feat: 'n/a' for feat in user_status_features}\n",
    "    \n",
    "    if username not in user_status: # Populate with zeros\n",
    "        user_status[username] = deepcopy(user_status_template)\n",
    "    \n",
    "    return user_status[username]\n",
    "\n",
    "\n",
    "# Update user's current info from username and post or comment results\n",
    "def update_user_infodict(username, score, gold, content_type):\n",
    "    assert(content_type in ('Post', 'Comment'))\n",
    "    if username != '[deleted]':\n",
    "        status = user_status[username]\n",
    "        status['Cum_{}s'.format(content_type)] += 1\n",
    "        status['Cum_{}_Score'.format(content_type)] += score\n",
    "        status['Cum_{}_Gold'.format(content_type)] += gold\n",
    "\n",
    "    \n",
    "# Get weekday (0-6, 0 is Monday) and hour (0-23) of timestamp US Eastern\n",
    "eastern = timezone('US/Eastern')\n",
    "def us_eastern_day_time(tstamp):\n",
    "    try:\n",
    "        dt = datetime.fromtimestamp(tstamp, eastern)\n",
    "        return (dt.weekday(), dt.hour)\n",
    "    except ValueError:\n",
    "        print(tstamp)\n",
    "        raise ValueError('timestamp out of range for platform time_t')"
   ]
  },
  {
   "cell_type": "code",
   "execution_count": 6,
   "metadata": {},
   "outputs": [
    {
     "name": "stdout",
     "output_type": "stream",
     "text": [
      "Done\n"
     ]
    }
   ],
   "source": [
    "# Iterate over both comments and posts by timestamp order\n",
    "post = next(post_lines, None)\n",
    "comment = next(comment_lines, None)\n",
    "\n",
    "nparses = 0\n",
    "while True:\n",
    "    if post == None and comment == None:\n",
    "        break\n",
    "        \n",
    "    # Fetch time for post and comment to decide which came earlier. If same, defer to post\n",
    "    post_timestamp = float('inf')\n",
    "    if post != None:\n",
    "        post_timestamp = int(post['Created_UTC'])\n",
    "    comment_timestamp = float('inf')\n",
    "    if comment != None:\n",
    "        comment_timestamp = int(comment['Created_UTC'])\n",
    "\n",
    "    fields = {} # Information that will be written to output\n",
    "    fields.update({feat: 0 for feat in day_features})\n",
    "    fields.update({feat: 0 for feat in hour_features})\n",
    "    if post_timestamp <= comment_timestamp:\n",
    "        fields['Post_ID'] = post['#Post_ID']\n",
    "        \n",
    "        # Set the appropriate post hour and post day fields to 1\n",
    "        (day, hour) = us_eastern_day_time(post_timestamp)\n",
    "        fields[day_features[day]] = fields[hour_features[hour]] = 1\n",
    "        \n",
    "        # Fetch the author's status before this post was made and set features appropriately\n",
    "        author = post['Author']\n",
    "        fields['Author'] = author\n",
    "        author_infodict = {('Author_' + k): v for (k,v) in get_user_infodict(author).iteritems()}\n",
    "        fields.update(author_infodict)\n",
    "\n",
    "        # Fetch post score and gold; update user info\n",
    "        post_score = int(post['Score'])\n",
    "        post_gold = int(post['Gilded'])\n",
    "        update_user_infodict(author, post_score, post_gold, 'Post')\n",
    "        fields['Score'] = post_score; fields['Gilded'] = post_gold\n",
    "        \n",
    "        # Write to output file\n",
    "        output_posts.writerow(fields)\n",
    "        post = next(post_lines, None)\n",
    "    else:\n",
    "        fields['Comment_ID'] = comment['Comment_ID']\n",
    "        \n",
    "        # Set appropriate post hour and post day fields to 1\n",
    "        (day, hour) = us_eastern_day_time(comment_timestamp)\n",
    "        fields[day_features[day]] = fields[hour_features[hour]] = 1\n",
    "        \n",
    "        # Fetch commenter and commentee statuses before comment made; update features\n",
    "        commenter = comment['#Commenter']\n",
    "        commenter_infodict = {('Commenter_' + k): v for (k,v) in get_user_infodict(commenter).iteritems()}\n",
    "        commentee = comment['Commentee']\n",
    "        commentee_infodict = {('Commentee_' + k): v for (k,v) in get_user_infodict(commentee).iteritems()}\n",
    "        fields['Commenter'] = commenter; fields['Commentee'] = commentee\n",
    "        fields.update(commenter_infodict); fields.update(commentee_infodict)\n",
    "        \n",
    "        # Fetch comment score and gold; update commenter info (commentee remains unchanged)\n",
    "        comment_score = int(comment['Score'])\n",
    "        comment_gold = int(comment['Gilded'])\n",
    "        update_user_infodict(commenter, comment_score, comment_gold, 'Comment')\n",
    "        fields['Score'] = comment_score; fields['Gilded'] = comment_gold\n",
    "        \n",
    "        # Write to output file\n",
    "        output_comments.writerow(fields)\n",
    "        comment = next(comment_lines, None)\n",
    "    \n",
    "    nparses += 1\n",
    "    if nparses > 0 and nparses % 1000000 == 0:\n",
    "        print('{} entries parsed'.format(nparses))\n",
    "        \n",
    "print('Done')"
   ]
  },
  {
   "cell_type": "code",
   "execution_count": 7,
   "metadata": {},
   "outputs": [],
   "source": [
    "outfile_posts.close()\n",
    "outfile_comments.close()\n",
    "post_file_sorted.close()\n",
    "comment_file_sorted.close()"
   ]
  }
 ],
 "metadata": {
  "kernelspec": {
   "display_name": "Python 2",
   "language": "python",
   "name": "python2"
  },
  "language_info": {
   "codemirror_mode": {
    "name": "ipython",
    "version": 2
   },
   "file_extension": ".py",
   "mimetype": "text/x-python",
   "name": "python",
   "nbconvert_exporter": "python",
   "pygments_lexer": "ipython2",
   "version": "2.7.14"
  }
 },
 "nbformat": 4,
 "nbformat_minor": 1
}
