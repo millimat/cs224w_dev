{
 "cells": [
  {
   "cell_type": "code",
   "execution_count": 1,
   "metadata": {
    "collapsed": true
   },
   "outputs": [],
   "source": [
    "import snap\n",
    "import re\n",
    "import os\n",
    "from datetime import datetime\n",
    "from pytz import timezone\n",
    "from copy import deepcopy"
   ]
  },
  {
   "cell_type": "code",
   "execution_count": 2,
   "metadata": {
    "collapsed": true
   },
   "outputs": [],
   "source": [
    "# Post and comment file sorted by timestamp so that user statuses are accurate\n",
    "post_file_sorted = 'output/rsj2012.txt'\n",
    "comment_file_sorted = 'output/rcj2012.txt'"
   ]
  },
  {
   "cell_type": "code",
   "execution_count": 3,
   "metadata": {
    "collapsed": true
   },
   "outputs": [],
   "source": [
    "# Features we are interested in\n",
    "day_features = ['Is_US_Eastern_{}'.format(d) for d in ('Sun', 'Mon', 'Tues', 'Wednes', 'Thurs', 'Fri', 'Sat')]\n",
    "hour_features = ['Is_US_Eastern_Hour_{}'.format(h) for h in range(24)]\n",
    "status_templates = ['Cum_{}s', 'Cum_{}_Score', 'Cum_{}_Gold']\n",
    "user_status_features = [template.format(typ) for template in status_templates for typ in ('Post', 'Comment')]\n",
    "\n",
    "# Outputs\n",
    "output_features = ['Score', 'Gilded']"
   ]
  },
  {
   "cell_type": "code",
   "execution_count": 4,
   "metadata": {
    "collapsed": true
   },
   "outputs": [],
   "source": [
    "# Setup post and comment output feature files\n",
    "output_posts = open('output/reddit_submissions_basic_features_jan2012.tsv', 'w')\n",
    "post_features = ['Post_ID'] + day_features + hour_features + ['Author_' + f for f in user_status_features]\\\n",
    "                + output_features\n",
    "output_posts.write('#' + '\\t'.join(post_features) + '\\n')\n",
    "\n",
    "output_comments = open('output/reddit_comments_basic_features_jan2012.tsv', 'w')\n",
    "comment_features = ['Comment_ID'] + day_features + hour_features\\\n",
    "                   + ['Commenter_' + f for f in user_status_features]\\\n",
    "                   + ['Commentee_' + f for f in user_status_features]\\\n",
    "                   + output_features\n",
    "output_comments.write('#' + '\\t'.join(comment_features) + '\\n')\n",
    "\n",
    "# Setup post and comment files for reading\n",
    "posts = open(post_file_sorted)\n",
    "header_posts = posts.readline()[1:].rstrip('\\n').split('\\t') # Strip leading '#' and ending '\\n', sep by tab\n",
    "post_fields = {name: i for (i, name) in enumerate(header_posts)}\n",
    "post_lines = (l.rstrip('\\n').split('\\t') for l in posts)\n",
    "\n",
    "comments = open(comment_file_sorted)\n",
    "header_comments = comments.readline()[1:].rstrip('\\n').split('\\t')\n",
    "comment_fields = {name: i for (i, name) in enumerate(header_comments)}\n",
    "comment_lines = (l.rstrip('\\n').split('\\t') for l in comments)"
   ]
  },
  {
   "cell_type": "code",
   "execution_count": 5,
   "metadata": {
    "collapsed": true
   },
   "outputs": [],
   "source": [
    "# User status tracking\n",
    "user_status = {} # username -> (curr totals of post/comments and scores)\n",
    "user_status_template = {k: 0 for k in user_status_features}\n",
    "\n",
    "# Get user's current info from username and |user_status|\n",
    "def get_user_infovec(username):\n",
    "    if username == '[deleted]':\n",
    "        return ['n/a'] * len(user_status_features)\n",
    "    \n",
    "    if username not in user_status: # Populate with zeros\n",
    "        user_status[username] = deepcopy(user_status_template)\n",
    "    \n",
    "    return [user_status[username][feature] for feature in user_status_features]\n",
    "\n",
    "\n",
    "# Update user's current info from username and post or comment results\n",
    "def update_user_infovec(username, score, gold, content_type):\n",
    "    assert(content_type in ('Post', 'Comment'))\n",
    "    if username != '[deleted]':\n",
    "        status = user_status[username]\n",
    "        status['Cum_{}s'.format(content_type)] += 1\n",
    "        status['Cum_{}_Score'.format(content_type)] += score\n",
    "        status['Cum_{}_Gold'.format(content_type)] += gold\n",
    "\n",
    "    \n",
    "# Get weekday (0-6, 0 is Monday) and hour (0-23) of timestamp US Eastern\n",
    "eastern = timezone('US/Eastern')\n",
    "def us_eastern_day_time(tstamp):\n",
    "    try:\n",
    "        dt = datetime.fromtimestamp(tstamp, eastern)\n",
    "        return (dt.weekday(), dt.hour)\n",
    "    except ValueError:\n",
    "        print(tstamp)\n",
    "        raise ValueError('timestamp out of range for platform time_t')"
   ]
  },
  {
   "cell_type": "code",
   "execution_count": 6,
   "metadata": {},
   "outputs": [
    {
     "name": "stdout",
     "output_type": "stream",
     "text": [
      "1000000 entries parsed\n",
      "2000000 entries parsed\n",
      "3000000 entries parsed\n",
      "4000000 entries parsed\n",
      "5000000 entries parsed\n",
      "6000000 entries parsed\n",
      "7000000 entries parsed\n",
      "8000000 entries parsed\n",
      "9000000 entries parsed\n",
      "10000000 entries parsed\n",
      "11000000 entries parsed\n",
      "12000000 entries parsed\n",
      "13000000 entries parsed\n",
      "14000000 entries parsed\n",
      "Done\n"
     ]
    }
   ],
   "source": [
    "# Iterate over both comments and posts by timestamp order\n",
    "post = next(post_lines, None)\n",
    "comment = next(comment_lines, None)\n",
    "\n",
    "nparses = 0\n",
    "while True:\n",
    "    if post == None and comment == None:\n",
    "        break\n",
    "        \n",
    "    # Fetch time for post and comment to decide which came earlier. If same, defer to post\n",
    "    post_timestamp = float('inf')\n",
    "    if post != None:\n",
    "        post_timestamp = int(post[post_fields['Created_UTC']])\n",
    "    comment_timestamp = float('inf')\n",
    "    if comment != None:\n",
    "        comment_timestamp = int(comment[comment_fields['Created_UTC']])\n",
    "\n",
    "    dayvec = [0] * len(day_features)\n",
    "    hourvec = [0] * len(hour_features)\n",
    "    if post_timestamp <= comment_timestamp:\n",
    "        (day, hour) = us_eastern_day_time(post_timestamp)\n",
    "        dayvec[day] = hourvec[hour] = 1\n",
    "        \n",
    "        author = post[post_fields['Author']]\n",
    "        author_infovec = get_user_infovec(author)\n",
    "        \n",
    "        post_id = post[post_fields['Post_ID']]\n",
    "        post_score = int(post[post_fields['Score']])\n",
    "        post_gold = int(post[post_fields['Gilded']])\n",
    "        \n",
    "        output_posts.write('\\t'.join(str(x) for x in ([post_id] + dayvec + hourvec + author_infovec +\n",
    "                                                      [post_score, post_gold])) + '\\n')       \n",
    "        update_user_infovec(author, post_score, post_gold, 'Post')\n",
    "        post = next(post_lines, None)\n",
    "    else:\n",
    "        (day, hour) = us_eastern_day_time(comment_timestamp)\n",
    "        dayvec[day] = hourvec[hour] = 1\n",
    "        \n",
    "        commenter = comment[comment_fields['Commenter']]\n",
    "        commenter_infovec = get_user_infovec(commenter)\n",
    "        commentee = comment[comment_fields['Commentee']]\n",
    "        commentee_infovec = get_user_infovec(commentee)\n",
    "        \n",
    "        comment_id = comment[comment_fields['Comment_ID']]\n",
    "        comment_score = int(comment[comment_fields['Score']])\n",
    "        comment_gold = int(comment[comment_fields['Gilded']])\n",
    "        \n",
    "        output_comments.write('\\t'.join(str(x) for x in ([comment_id] + dayvec + hourvec + commenter_infovec +\n",
    "                                                       commentee_infovec + [comment_score, comment_gold])) + '\\n')\n",
    "        update_user_infovec(commenter, comment_score, comment_gold, 'Comment')        \n",
    "        comment = next(comment_lines, None)\n",
    "    \n",
    "    nparses += 1\n",
    "    if nparses > 0 and nparses % 1000000 == 0:\n",
    "        print('{} entries parsed'.format(nparses))\n",
    "        \n",
    "print('Done')"
   ]
  },
  {
   "cell_type": "code",
   "execution_count": 7,
   "metadata": {
    "collapsed": true
   },
   "outputs": [],
   "source": [
    "output_posts.close()\n",
    "output_comments.close()\n",
    "posts.close()\n",
    "comments.close()"
   ]
  }
 ],
 "metadata": {
  "kernelspec": {
   "display_name": "Python 2",
   "language": "python",
   "name": "python2"
  },
  "language_info": {
   "codemirror_mode": {
    "name": "ipython",
    "version": 2
   },
   "file_extension": ".py",
   "mimetype": "text/x-python",
   "name": "python",
   "nbconvert_exporter": "python",
   "pygments_lexer": "ipython2",
   "version": "2.7.14"
  }
 },
 "nbformat": 4,
 "nbformat_minor": 1
}
