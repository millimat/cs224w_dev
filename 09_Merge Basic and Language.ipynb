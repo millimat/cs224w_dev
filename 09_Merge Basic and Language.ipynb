{
 "cells": [
  {
   "cell_type": "code",
   "execution_count": null,
   "metadata": {
    "collapsed": true
   },
   "outputs": [],
   "source": [
    "import csv"
   ]
  },
  {
   "cell_type": "code",
   "execution_count": null,
   "metadata": {
    "scrolled": true
   },
   "outputs": [],
   "source": [
    "basic_tsvpath = 'output/reddit_submissions_basic_features_nodelete_jan2012.tsv'\n",
    "basic_tsv = open(basic_tsvpath)\n",
    "basic_reader = csv.DictReader(basic_tsv, delimiter='\\t')\n",
    "\n",
    "language_csvpath = 'output/text_features.csv'\n",
    "language_csv = open(language_csvpath)\n",
    "language_reader = csv.DictReader(language_csv, delimiter=',')\n",
    "\n",
    "basic_dicts = {l['Post_ID']: l for l in basic_reader}\n",
    "language_dicts = {l['#post_id']: l for l in language_reader}\n",
    "\n",
    "merged_dicts = {}\n",
    "for (i, post_id) in enumerate(basic_dicts):\n",
    "    basic_dict = basic_dicts[post_id]\n",
    "    language_dict = language_dicts[post_id]\n",
    "    merged = {}\n",
    "    merged.update(basic_dict)\n",
    "    merged.update(language_dict)\n",
    "    del merged['#post_id']\n",
    "    merged_dicts[post_id] = merged\n",
    "\n",
    "merged_fields = open(basic_tsvpath).readline().strip().split('\\t')[:-2]\\\n",
    "                + open(language_csvpath).readline().strip().split(',')[1:]\\\n",
    "                + ['Score'] + ['Gilded']\n",
    "merged_file = open('output/basic_and_language_nodelete.tsv', 'w')\n",
    "merged_writer = csv.DictWriter(merged_file, fieldnames=merged_fields, delimiter='\\t')\n",
    "merged_writer.writeheader()\n",
    "for post_id in sorted(merged_dicts.keys()):\n",
    "    merged_writer.writerow(merged_dicts[post_id])\n",
    "\n",
    "basic_tsv.close()\n",
    "language_csv.close()\n",
    "merged_file.close()"
   ]
  },
  {
   "cell_type": "code",
   "execution_count": null,
   "metadata": {
    "collapsed": true
   },
   "outputs": [],
   "source": []
  }
 ],
 "metadata": {
  "kernelspec": {
   "display_name": "Python 2",
   "language": "python",
   "name": "python2"
  },
  "language_info": {
   "codemirror_mode": {
    "name": "ipython",
    "version": 2
   },
   "file_extension": ".py",
   "mimetype": "text/x-python",
   "name": "python",
   "nbconvert_exporter": "python",
   "pygments_lexer": "ipython2",
   "version": "2.7.14"
  }
 },
 "nbformat": 4,
 "nbformat_minor": 2
}
