{
 "cells": [
  {
   "cell_type": "code",
   "execution_count": null,
   "metadata": {
    "collapsed": true
   },
   "outputs": [],
   "source": [
    "import csv\n",
    "import snap\n",
    "import sys\n",
    "import numpy as np"
   ]
  },
  {
   "cell_type": "code",
   "execution_count": null,
   "metadata": {
    "scrolled": true
   },
   "outputs": [],
   "source": [
    "# Get dictionary mapping usernames to node IDs in TNEANet\n",
    "uunet = snap.TNEANet.Load(snap.TFIn('output/usernets/user_tneanet_nodelete.graph'))\n",
    "usernames_to_nids = {uunet.GetStrAttrDatN(NI, 'username'): NI.GetId() for NI in uunet.Nodes()}\n",
    "nids_to_usernames = {v: k for (k,v) in usernames_to_nids.iteritems()}\n",
    "\n",
    "del uunet"
   ]
  },
  {
   "cell_type": "code",
   "execution_count": null,
   "metadata": {},
   "outputs": [],
   "source": [
    "# Parse network feature files and map usernames to network features\n",
    "user_network_features = {username: {} for username in usernames_to_nids}\n",
    "\n",
    "network_basic = open('output/network_features_user_tneanet_nodelete_jan2012.tsv')\n",
    "nbreader = csv.DictReader(network_basic, delimiter='\\t')\n",
    "for (i, row) in enumerate(nbreader):\n",
    "    nid = int(row['node_id'])\n",
    "    unf = user_network_features[nids_to_usernames[nid]]\n",
    "    unf.update(row)\n",
    "    del unf['node_id'] # redundant\n",
    "    if i % 100000 == 0:\n",
    "        print(i)\n",
    "network_basic.close()"
   ]
  },
  {
   "cell_type": "code",
   "execution_count": null,
   "metadata": {},
   "outputs": [],
   "source": [
    "node2vec = {'node2vec_homophily': open('output/reddit_emb/uu_tneanet_p1_q0.5.emb'),\n",
    "            'node2vec_structure': open('output/reddit_emb/uu_tneanet_p0.5_q1.emb')}\n",
    "\n",
    "\n",
    "user_n2v_features = {}\n",
    "for (prefix, n2vfile) in node2vec.iteritems():\n",
    "    print(prefix)\n",
    "    user_n2v_features[prefix] = {}\n",
    "    for (j, line) in enumerate(n2vfile):\n",
    "        entries = line.strip().split()\n",
    "        nid = int(entries[0])\n",
    "        vec = np.array(entries[1:], dtype=np.float64)\n",
    "        user_n2v_features[prefix][nids_to_usernames[nid]] = vec\n",
    "        if j % 100000 == 0:\n",
    "            print(j)\n",
    "    n2vfile.close()"
   ]
  },
  {
   "cell_type": "code",
   "execution_count": null,
   "metadata": {
    "scrolled": true
   },
   "outputs": [],
   "source": [
    "# Merge network features with basic and language features\n",
    "basic_language_file = open('output/basic_and_language_nodelete.tsv')\n",
    "bl_reader = csv.DictReader(basic_language_file, delimiter='\\t')\n",
    "\n",
    "bl_feature_names = bl_reader.fieldnames[:-2]\n",
    "output_names = bl_reader.fieldnames[-2:]\n",
    "\n",
    "network_feature_names = user_network_features.values()[0].keys()\n",
    "for (prefix, nfeatures) in node2vec_nfeatures.iteritems():\n",
    "    network_feature_names.extend([prefix + '_' + str(i) for i in range(nfeatures)])\n",
    "\n",
    "full_file = open('output/basic_language_network_nodelete.tsv', 'w')\n",
    "full_writer = csv.DictWriter(full_file, delimiter='\\t', \n",
    "                             fieldnames=bl_feature_names + network_feature_names + output_names)\n",
    "full_writer.writeheader()\n",
    "\n",
    "for (i, row) in enumerate(bl_reader):\n",
    "    username = row['Author']\n",
    "    if username in user_network_features and username in user_n2v_features['node2vec_homophily']:\n",
    "        row.update(user_network_features[username])\n",
    "        for prefix in user_n2v_features:\n",
    "            vec = user_n2v_features[prefix][username]\n",
    "            row.update({prefix + '_' + str(j): vec[j] for j in range(len(vec))})\n",
    "        full_writer.writerow(row)\n",
    "    \n",
    "    if i % 10000 == 0:\n",
    "        print(i)\n",
    "print('Done')\n",
    "\n",
    "basic_language_file.close()\n",
    "full_file.close()"
   ]
  }
 ],
 "metadata": {
  "kernelspec": {
   "display_name": "Python 2",
   "language": "python",
   "name": "python2"
  },
  "language_info": {
   "codemirror_mode": {
    "name": "ipython",
    "version": 2
   },
   "file_extension": ".py",
   "mimetype": "text/x-python",
   "name": "python",
   "nbconvert_exporter": "python",
   "pygments_lexer": "ipython2",
   "version": "2.7.14"
  }
 },
 "nbformat": 4,
 "nbformat_minor": 2
}
