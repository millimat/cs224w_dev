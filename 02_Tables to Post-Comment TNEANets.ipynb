{
 "cells": [
  {
   "cell_type": "code",
   "execution_count": null,
   "metadata": {
    "collapsed": true
   },
   "outputs": [],
   "source": [
    "import snap\n",
    "import re\n",
    "from collections import defaultdict"
   ]
  },
  {
   "cell_type": "code",
   "execution_count": null,
   "metadata": {
    "collapsed": true
   },
   "outputs": [],
   "source": [
    "post_file = 'output/reddit_submissions_jan2012.txt'\n",
    "comment_file = 'output/reddit_comments_jan2012.txt'"
   ]
  },
  {
   "cell_type": "code",
   "execution_count": null,
   "metadata": {
    "collapsed": true
   },
   "outputs": [],
   "source": [
    "int_attrs = ['score', 'gilded', 'created_utc']\n",
    "str_attrs = ['author', 'text', 'id']\n",
    "def make_net():\n",
    "    net = snap.TNEANet.New()\n",
    "\n",
    "    for ia in int_attrs:\n",
    "        net.AddIntAttrN(ia)\n",
    "    for sa in str_attrs:\n",
    "        net.AddStrAttrN(sa)\n",
    "    \n",
    "    return net"
   ]
  },
  {
   "cell_type": "code",
   "execution_count": null,
   "metadata": {
    "collapsed": true
   },
   "outputs": [],
   "source": [
    "posts = open(post_file)\n",
    "header = posts.readline()[1:].rstrip('\\n').split('\\t')\n",
    "fields = {name: i for (i, name) in enumerate(header)}\n",
    "\n",
    "nets = {} # subreddit name to a TNEANet (e.g. 'politics' -> tneanet)\n",
    "\n",
    "# Parse post info and add to table\n",
    "for (i, post) in enumerate(posts):\n",
    "    entries = post.rstrip('\\n').split('\\t')\n",
    "    subreddit = entries[fields['Subreddit']]\n",
    "    if subreddit not in nets:\n",
    "        nets[subreddit] = make_net()\n",
    "    srnet = nets[subreddit]\n",
    "    \n",
    "    post_id = entries[fields['Post_ID']]\n",
    "    author = entries[fields['Author']]\n",
    "    title = entries[fields['Title']]\n",
    "    score = int(entries[fields['Score']])\n",
    "    gilded = int(entries[fields['Gilded']])\n",
    "    created_utc = int(entries[fields['Created_UTC']])\n",
    "    \n",
    "    nid = srnet.AddNode()\n",
    "    postids_to_nids[post_id] = nid\n",
    "    \n",
    "    srnet.AddIntAttrDatN(nid, score, 'score')\n",
    "    srnet.AddIntAttrDatN(nid, gilded, 'gilded')\n",
    "    srnet.AddIntAttrDatN(nid, created_utc, 'created_utc')\n",
    "    srnet.AddStrAttrDatN(nid, author, 'author')\n",
    "    srnet.AddStrAttrDatN(nid, title, 'text')\n",
    "    srnet.AddStrAttrDatN(nid, post_id, 'id')\n",
    "    \n",
    "    if i % 100000 == 0:\n",
    "        print(i)\n",
    "\n",
    "posts.close()"
   ]
  },
  {
   "cell_type": "code",
   "execution_count": null,
   "metadata": {
    "collapsed": true
   },
   "outputs": [],
   "source": [
    "comments = open(comment_file)\n",
    "header = comments.readline()[1:].rstrip('\\n').split('\\t')\n",
    "fields = {name: i for (i, name) in enumerate(header)}\n",
    "\n",
    "# Reduce memory pressure by reading table once for each subreddit\n",
    "srnames_to_lines = defaultdict(set)\n",
    "for (i, com) in enumerate(comments):\n",
    "    entries = com.rstrip('\\n').split('\\t')\n",
    "    subreddit = entries[fields['Subreddit']]\n",
    "    srnames_to_lines[subreddit].add(i)\n",
    "\n",
    "comments.close()"
   ]
  },
  {
   "cell_type": "code",
   "execution_count": null,
   "metadata": {
    "collapsed": true,
    "scrolled": true
   },
   "outputs": [],
   "source": [
    "output_directory = 'output/subreddit_nets'\n",
    "os.makedirs(output_directory)\n",
    "\n",
    "# This code will iterate over one subreddit at a time to make one TNEANet per subreddit. \n",
    "# This takes a long time but saves a lot of memory; iterating over the file once to parse all subreddits uses\n",
    "# several times more memory and is difficult to do on local machines.\n",
    "names = (name for name in sorted(srnames_to_lines.keys()))\n",
    "for subreddit in names:\n",
    "    print(subreddit)\n",
    "    srlines = srnames_to_lines[subreddit]\n",
    "    srnet = nets[subreddit]\n",
    "    \n",
    "    comments = open(comment_file)\n",
    "    header = comments.readline()[1:].rstrip('\\n').split('\\t')\n",
    "    fields = {name: i for (i, name) in enumerate(header)}\n",
    "    comids_to_nids = {}\n",
    "\n",
    "    comlines = (line for (j, line) in enumerate(comments) if j in srlines)\n",
    "    for (i, com) in enumerate(comlines):\n",
    "        entries = com.rstrip('\\n').split('\\t')\n",
    "        is_reply = bool(int(entries[fields['Is_Reply']]))\n",
    "        parent_id = entries[fields['Parent_ID']]\n",
    "        comment_id = entries[fields['Comment_ID']]\n",
    "\n",
    "        if subreddit in nets and parent_id in postids_to_nids or parent_id in comids_to_nids: \n",
    "            # Comment not orphaned; add to graph\n",
    "            author = entries[fields['Commenter']]\n",
    "            text = entries[fields['Comment_Text']]\n",
    "            score = int(entries[fields['Score']])\n",
    "            gilded = int(entries[fields['Gilded']])\n",
    "            created_utc = int(entries[fields['Created_UTC']])\n",
    "\n",
    "            nid = srnet.AddNode()\n",
    "            comids_to_nids[comment_id] = nid\n",
    "            parent_nid = (comids_to_nids[parent_id] if is_reply else postids_to_nids[parent_id])\n",
    "            srnet.AddEdge(nid, parent_nid)\n",
    "\n",
    "            srnet.AddIntAttrDatN(nid, score, 'score')\n",
    "            srnet.AddIntAttrDatN(nid, gilded, 'gilded')\n",
    "            srnet.AddIntAttrDatN(nid, created_utc, 'created_utc')\n",
    "            srnet.AddStrAttrDatN(nid, author, 'author')\n",
    "            srnet.AddStrAttrDatN(nid, text, 'text')\n",
    "            srnet.AddStrAttrDatN(nid, comment_id, 'id')\n",
    "    \n",
    "    out = snap.TFOut(output_directory + '/' + subreddit + '.graph')\n",
    "    srnet.Save(out)\n",
    "    out.Flush()\n",
    "    srnet.Clr()\n",
    "    \n",
    "    del srnames_to_lines[subreddit]\n",
    "    del nets[subreddit]\n",
    "    comments.close()"
   ]
  }
 ],
 "metadata": {
  "kernelspec": {
   "display_name": "Python 2",
   "language": "python",
   "name": "python2"
  },
  "language_info": {
   "codemirror_mode": {
    "name": "ipython",
    "version": 2
   },
   "file_extension": ".py",
   "mimetype": "text/x-python",
   "name": "python",
   "nbconvert_exporter": "python",
   "pygments_lexer": "ipython2",
   "version": "2.7.14"
  }
 },
 "nbformat": 4,
 "nbformat_minor": 2
}
