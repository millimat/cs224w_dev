{
 "cells": [
  {
   "cell_type": "code",
   "execution_count": null,
   "metadata": {
    "collapsed": true
   },
   "outputs": [],
   "source": [
    "import snap"
   ]
  },
  {
   "cell_type": "code",
   "execution_count": null,
   "metadata": {
    "collapsed": true
   },
   "outputs": [],
   "source": [
    "uugraph = snap.TNGraph.Load(snap.TFIn('output/usernets/user_tngraph_nodelete.graph'))\n",
    "print(uugraph.GetNodes())"
   ]
  },
  {
   "cell_type": "code",
   "execution_count": null,
   "metadata": {
    "collapsed": true
   },
   "outputs": [],
   "source": [
    "nid = uugraph.GetRndNId()\n",
    "nids = set()\n",
    "nidv = snap.TIntV()\n",
    "\n",
    "for i in range(1,3):\n",
    "    snap.GetNodesAtHop(uugraph, nid, i, nidv, False)\n",
    "    nids.update(nidv)\n",
    "    \n",
    "print(len(nids))"
   ]
  },
  {
   "cell_type": "code",
   "execution_count": null,
   "metadata": {
    "collapsed": true
   },
   "outputs": [],
   "source": [
    "uunet = snap.TNEANet.Load(snap.TFIn('output/usernets/user_tneanet_nodelete.graph'))\n",
    "uunet_mini = snap.TNEANet.New()\n",
    "\n",
    "print(uunet.GetEdges())\n",
    "\n",
    "for nid in nids:\n",
    "    uunet_mini.AddNode(nid)\n",
    "for EI in uunet.Edges():\n",
    "    if EI.GetSrcNId() in nids and EI.GetDstNId() in nids:\n",
    "        uunet_mini.AddEdge(EI.GetSrcNId(), EI.GetDstNId(), EI.GetId())"
   ]
  },
  {
   "cell_type": "code",
   "execution_count": null,
   "metadata": {
    "collapsed": true
   },
   "outputs": [],
   "source": [
    "out_edges = open('out_edges.tsv', 'w')\n",
    "out_edges.write('Src\\tDst\\n')\n",
    "for EI in uunet_mini.Edges():\n",
    "    out_edges.write('{}\\t{}\\n'.format(EI.GetSrcNId(), EI.GetDstNId()))\n",
    "out_edges.close()"
   ]
  }
 ],
 "metadata": {
  "kernelspec": {
   "display_name": "Python 2",
   "language": "python",
   "name": "python2"
  },
  "language_info": {
   "codemirror_mode": {
    "name": "ipython",
    "version": 2
   },
   "file_extension": ".py",
   "mimetype": "text/x-python",
   "name": "python",
   "nbconvert_exporter": "python",
   "pygments_lexer": "ipython2",
   "version": "2.7.14"
  }
 },
 "nbformat": 4,
 "nbformat_minor": 2
}
