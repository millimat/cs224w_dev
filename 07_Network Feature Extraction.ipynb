{
 "cells": [
  {
   "cell_type": "code",
   "execution_count": 1,
   "metadata": {
    "collapsed": true
   },
   "outputs": [],
   "source": [
    "import snap\n",
    "import re\n",
    "import os\n",
    "from datetime import datetime\n",
    "from pytz import timezone\n",
    "from copy import deepcopy\n",
    "import csv"
   ]
  },
  {
   "cell_type": "code",
   "execution_count": 21,
   "metadata": {
    "collapsed": true
   },
   "outputs": [],
   "source": [
    "input_dir = ('output/usernets')\n",
    "in_multi_delete = snap.TFIn(os.path.join(input_dir, 'user_tneanet.graph'))\n",
    "in_multi_nodelete = snap.TFIn(os.path.join(input_dir, 'user_tneanet_nodelete.graph'))\n",
    "in_simple_delete = snap.TFIn(os.path.join(input_dir, 'user_tngraph.graph'))\n",
    "in_simple_nodelete = snap.TFIn(os.path.join(input_dir, 'user_tngraph_nodelete.graph'))\n",
    "                               \n",
    "uunet = snap.TNEANet.Load(in_multi_delete)\n",
    "uunet_nodelete = snap.TNEANet.Load(in_multi_nodelete)\n",
    "uunet_simple = snap.TNGraph.Load(in_simple_delete)\n",
    "uunet_simple_nodelete = snap.TNGraph.Load(in_simple_nodelete)\n",
    "\n",
    "graphs = {\"user_tneanet_nodelete\": uunet_nodelete, \"user_tngraph_nodelete\": uunet_simple_nodelete}"
   ]
  },
  {
   "cell_type": "code",
   "execution_count": 22,
   "metadata": {
    "collapsed": true
   },
   "outputs": [],
   "source": [
    "# Features we are interested in\n",
    "# network_features = [\"In_Degree\", \"Out_Degree\", \"Pagerank\", \"Betweenness_Centrality\", \"Closeness_Centrality\", \"Authority_Score\", \"Hub_Score\"]\n",
    "network_features = [\"node_id\", \"In_Degree\", \"Out_Degree\", \"Pagerank\", \"Authority_Score\", \"Hub_Score\"]"
   ]
  },
  {
   "cell_type": "code",
   "execution_count": 25,
   "metadata": {},
   "outputs": [],
   "source": [
    "def create_network_features(graph_name, graph):\n",
    "    # Setup network output feature files\n",
    "    outfile = 'output/network_features_{}_jan2012.tsv'.format(graph_name)\n",
    "    outfile_network_features = open(outfile, 'w')\n",
    "    output_network_features = csv.DictWriter(outfile_network_features, network_features, delimiter='\\t')\n",
    "    output_network_features.writeheader()\n",
    "\n",
    "    # User network feature scores\n",
    "    user_network_scores = {} # node_id -> (network score like in degree)\n",
    "    network_feature_template = {k: 0 for k in network_features}\n",
    "\n",
    "    # Update user's current info from username network feature result\n",
    "    def update_user_network_scores(node_id, feature_name, feature_value):\n",
    "        assert(feature_name in network_features)\n",
    "        if node_id not in user_network_scores: # Populate with zeros\n",
    "            user_network_scores[node_id] = deepcopy(network_feature_template)\n",
    "\n",
    "        network_scores = user_network_scores[node_id]\n",
    "        network_scores[feature_name] = feature_value\n",
    "        \n",
    "    # Pagerank scores\n",
    "    PRankH = snap.TIntFltH()\n",
    "    snap.GetPageRank(graph, PRankH)\n",
    "    for node_id in PRankH:\n",
    "        update_user_network_scores(node_id, \"Pagerank\", PRankH[node_id])\n",
    "        \n",
    "    # In degree scores\n",
    "    for node in graph.Nodes():\n",
    "        node_id = node.GetId()\n",
    "        in_deg = node.GetInDeg()\n",
    "        update_user_network_scores(node_id, \"In_Degree\", in_deg)\n",
    "        \n",
    "    # Out Degree scores\n",
    "    for node in graph.Nodes():\n",
    "        node_id = node.GetId()\n",
    "        out_deg = node.GetOutDeg()\n",
    "        update_user_network_scores(node_id, \"Out_Degree\", out_deg)\n",
    "        \n",
    "    # Hubs and Authorities Score\n",
    "    NIdHubH = snap.TIntFltH()\n",
    "    NIdAuthH = snap.TIntFltH()\n",
    "    snap.GetHits(graph, NIdHubH, NIdAuthH)\n",
    "    for node_id in NIdHubH:\n",
    "        update_user_network_scores(node_id, \"Hub_Score\", NIdHubH[node_id])\n",
    "    for node_id in NIdAuthH:\n",
    "        update_user_network_scores(node_id, \"Authority_Score\", NIdAuthH[node_id])\n",
    "    \n",
    "    # Write to output file\n",
    "    for node_id in user_network_scores:\n",
    "        fields = user_network_scores[node_id]\n",
    "        fields[\"node_id\"] = node_id\n",
    "        output_network_features.writerow(fields)"
   ]
  },
  {
   "cell_type": "code",
   "execution_count": 26,
   "metadata": {},
   "outputs": [],
   "source": [
    "for graph_name in graphs:\n",
    "    create_network_features(graph_name, graphs[graph_name])"
   ]
  },
  {
   "cell_type": "code",
   "execution_count": null,
   "metadata": {},
   "outputs": [],
   "source": [
    "# # Closeness Centrality\n",
    "# for node in uunet_simple_nodelete.Nodes():\n",
    "#     node_id = node.GetId()\n",
    "#     CloseCentr = snap.GetClosenessCentr(uunet_simple_nodelete, node_id)\n",
    "#     update_user_network_scores(node_id, \"Closeness_Centrality\", CloseCentr)\n"
   ]
  },
  {
   "cell_type": "code",
   "execution_count": null,
   "metadata": {
    "collapsed": true
   },
   "outputs": [],
   "source": [
    "# # Betweenness Centrality\n",
    "# Nodes = snap.TIntFltH()\n",
    "# Edges = snap.TIntPrFltH()\n",
    "# snap.GetBetweennessCentr(uunet_nodelete, Nodes, Edges, 0.001)\n"
   ]
  },
  {
   "cell_type": "code",
   "execution_count": 25,
   "metadata": {
    "collapsed": true
   },
   "outputs": [],
   "source": [
    "outfile_network_features.close()\n"
   ]
  }
 ],
 "metadata": {
  "kernelspec": {
   "display_name": "Python 2",
   "language": "python",
   "name": "python2"
  },
  "language_info": {
   "codemirror_mode": {
    "name": "ipython",
    "version": 2
   },
   "file_extension": ".py",
   "mimetype": "text/x-python",
   "name": "python",
   "nbconvert_exporter": "python",
   "pygments_lexer": "ipython2",
   "version": "2.7.14"
  }
 },
 "nbformat": 4,
 "nbformat_minor": 2
}
