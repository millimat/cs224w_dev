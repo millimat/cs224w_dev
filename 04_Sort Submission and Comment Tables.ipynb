{
 "cells": [
  {
   "cell_type": "code",
   "execution_count": null,
   "metadata": {
    "collapsed": true
   },
   "outputs": [],
   "source": [
    "from shutil import copyfile"
   ]
  },
  {
   "cell_type": "code",
   "execution_count": null,
   "metadata": {
    "collapsed": true
   },
   "outputs": [],
   "source": [
    "from csvsort import csvsort\n",
    "postfile = 'output/reddit_submissions_jan2012.txt'\n",
    "\n",
    "sorted_postfile = 'output/rsj2012.txt'\n",
    "copyfile(postfile, sorted_postfile)\n",
    "\n",
    "csvsort(sorted_postfile, [0], delimiter='\\t') # 0 is post id (monotonic in time)"
   ]
  },
  {
   "cell_type": "markdown",
   "metadata": {},
   "source": [
    "Note: the csvsort module is slightly buggy, so the kernel needs to be restarted before the second block can be run."
   ]
  },
  {
   "cell_type": "code",
   "execution_count": null,
   "metadata": {
    "collapsed": true
   },
   "outputs": [],
   "source": [
    "from csvsort import csvsort\n",
    "commentfile ='output/reddit_comments_jan2012.txt'\n",
    "\n",
    "sorted_commentfile = 'output/rcj2012.txt'\n",
    "copyfile(commentfile, sorted_commentfile)\n",
    "\n",
    "csvsort(sorted_commentfile, [11,3], delimiter='\\t') # 11 is timestamp, 3 is comment id"
   ]
  }
 ],
 "metadata": {
  "kernelspec": {
   "display_name": "Python 2",
   "language": "python",
   "name": "python2"
  },
  "language_info": {
   "codemirror_mode": {
    "name": "ipython",
    "version": 2
   },
   "file_extension": ".py",
   "mimetype": "text/x-python",
   "name": "python",
   "nbconvert_exporter": "python",
   "pygments_lexer": "ipython2",
   "version": "2.7.14"
  }
 },
 "nbformat": 4,
 "nbformat_minor": 2
}
